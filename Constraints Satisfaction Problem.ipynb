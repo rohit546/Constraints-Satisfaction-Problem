{
 "cells": [
  {
   "cell_type": "markdown",
   "id": "2293b619",
   "metadata": {},
   "source": [
    "# Task 1:"
   ]
  },
  {
   "cell_type": "code",
   "execution_count": 12,
   "id": "d3948bea",
   "metadata": {},
   "outputs": [
    {
     "name": "stdout",
     "output_type": "stream",
     "text": [
      "Solution:\n",
      "WA: red\n",
      "NT: green\n",
      "Q: red\n",
      "NSW: green\n",
      "V: red\n",
      "SA: blue\n",
      "T: red\n"
     ]
    }
   ],
   "source": [
    "def check_consistent(assign, var, col):\n",
    "    for neighbor in nbrs[var]:\n",
    "        if neighbor in assign and assign[neighbor] == col:\n",
    "            return False\n",
    "    return True\n",
    "\n",
    "def backtrack(assign):\n",
    "    if len(assign) == len(vars):\n",
    "        return assign\n",
    "\n",
    "    unassigned = [v for v in vars if v not in assign]\n",
    "    var = unassigned[0]\n",
    "\n",
    "    for c in cols:\n",
    "        if check_consistent(assign, var, c):\n",
    "            assign[var] = c\n",
    "            result = backtrack(assign)\n",
    "            if result:\n",
    "                return result\n",
    "            del assign[var]\n",
    "\n",
    "    return None\n",
    "\n",
    "vars = ['WA', 'NT', 'Q', 'NSW', 'V', 'SA', 'T']\n",
    "nbrs = {\n",
    "    'WA': ['NT', 'SA'],\n",
    "    'NT': ['WA', 'SA', 'Q'],\n",
    "    'Q': ['NT', 'SA', 'NSW'],\n",
    "    'NSW': ['Q', 'SA', 'V'],\n",
    "    'V': ['NSW', 'SA'],\n",
    "    'SA': ['WA', 'NT', 'Q', 'NSW', 'V'],\n",
    "    'T': ['SA']\n",
    "}\n",
    "\n",
    "cols = ['red', 'green', 'blue']\n",
    "\n",
    "assignment = {}\n",
    "sol = backtrack(assignment)\n",
    "\n",
    "if sol:\n",
    "    print(\"Solution:\")\n",
    "    for v, c in sol.items():\n",
    "        print(f\"{v}: {c}\")\n",
    "else:\n",
    "    print(\"No solution found.\")\n"
   ]
  },
  {
   "cell_type": "code",
   "execution_count": null,
   "id": "c6b487f8",
   "metadata": {},
   "outputs": [],
   "source": []
  },
  {
   "cell_type": "code",
   "execution_count": 11,
   "id": "ec4aed3f",
   "metadata": {},
   "outputs": [
    {
     "name": "stdout",
     "output_type": "stream",
     "text": [
      "The CSP is not arc-consistent or has no solution.\n"
     ]
    }
   ],
   "source": [
    "def revise(csp, xi, xj):\n",
    "    revised = False\n",
    "    for x in csp.doms[xi].copy():\n",
    "        if not any(len(constraint) >= 3 and constraint[0] == xi and constraint[1] == xj and constraint[2] == x for constraint in csp.cons):\n",
    "            csp.doms[xi].remove(x)\n",
    "            revised = True\n",
    "    return revised\n",
    "\n",
    "def ac3(csp):\n",
    "    queue = [(xi, xj) for xi in csp.vars for xj in csp.neigh[xi]]\n",
    "    while queue:\n",
    "        xi, xj = queue.pop(0)\n",
    "        if revise(csp, xi, xj):\n",
    "            if not csp.doms[xi]:\n",
    "                return False\n",
    "            for xk in csp.neigh[xi] - {xj}:\n",
    "                queue.append((xk, xi))\n",
    "    return True\n",
    "\n",
    "class CSP:\n",
    "    def __init__(self, vars, doms, cons):\n",
    "        self.vars = vars\n",
    "        self.doms = doms\n",
    "        self.cons = cons\n",
    "        self.neigh = {var: set() for var in vars}\n",
    "        for xi, xj in cons:\n",
    "            self.neigh[xi].add(xj)\n",
    "            self.neigh[xj].add(xi)\n",
    "\n",
    "vars = ['WA', 'NT', 'Q', 'NSW', 'V', 'SA', 'T']\n",
    "doms = {var: {'red', 'green', 'blue'} for var in vars}\n",
    "cons = [('WA', 'NT'), ('WA', 'SA'), ('NT', 'SA'), ('NT', 'Q'),\n",
    "               ('Q', 'SA'), ('Q', 'NSW'), ('NSW', 'SA'), ('NSW', 'V'),\n",
    "               ('SA', 'V'), ('SA', 'T')]\n",
    "csp = CSP(vars, doms, cons)\n",
    "\n",
    "\n",
    "if ac3(csp):\n",
    "    print(\"The CSP is arc-consistent.\")\n",
    "    print(\"Solution:\")\n",
    "    for var, color in csp.doms.items():\n",
    "        print(f\"{var}: {color}\")\n",
    "else:\n",
    "    print(\"The CSP is not arc-consistent or has no solution.\")\n"
   ]
  },
  {
   "cell_type": "markdown",
   "id": "de1d0861",
   "metadata": {},
   "source": [
    "# Task 3"
   ]
  },
  {
   "cell_type": "code",
   "execution_count": 14,
   "id": "cb8697ec",
   "metadata": {},
   "outputs": [
    {
     "name": "stdout",
     "output_type": "stream",
     "text": [
      "Solution:\n",
      "WA: red\n",
      "NT: blue\n",
      "Q: red\n",
      "NSW: blue\n",
      "V: red\n",
      "SA: green\n",
      "T: red\n"
     ]
    }
   ],
   "source": [
    "def check_consistent(assn, v, c):\n",
    "   \n",
    "    for n in nbrs[v]:\n",
    "        if n in assn and assn[n] == c:\n",
    "            return False\n",
    "    return True\n",
    "\n",
    "def forward_checking(assn, v, c):\n",
    "   \n",
    "    for n in nbrs[v]:\n",
    "        if n not in assn:\n",
    "            remaining_values = assn[n] if n in assn else cols.copy()\n",
    "            remaining_values.discard(c)\n",
    "\n",
    "def backtrack(assn):\n",
    "    \n",
    "    if len(assn) == len(vars):\n",
    "        return assn  \n",
    "\n",
    "    unassigned_vars = [v for v in vars if v not in assn]\n",
    "    v = unassigned_vars[0]\n",
    "\n",
    "    for c in cols:\n",
    "        if check_consistent(assn, v, c):\n",
    "            assn[v] = c\n",
    "            forward_checking(assn, v, c)  \n",
    "            result = backtrack(assn)\n",
    "            if result:\n",
    "                return result\n",
    "            del assn[v]\n",
    "\n",
    "    return None  # No consistent assignment found\n",
    "\n",
    "\n",
    "vars = ['WA', 'NT', 'Q', 'NSW', 'V', 'SA', 'T']\n",
    "nbrs = {\n",
    "    'WA': {'NT', 'SA'},\n",
    "    'NT': {'WA', 'SA', 'Q'},\n",
    "    'Q': {'NT', 'SA', 'NSW'},\n",
    "    'NSW': {'Q', 'SA', 'V'},\n",
    "    'V': {'NSW', 'SA'},\n",
    "    'SA': {'WA', 'NT', 'Q', 'NSW', 'V'},\n",
    "    'T': {'SA'}  # Add 'T' to neighbors\n",
    "}\n",
    "\n",
    "\n",
    "cols = {'red', 'green', 'blue'}\n",
    "\n",
    "\n",
    "assn = {}\n",
    "sol = backtrack(assn)\n",
    "\n",
    "if sol:\n",
    "    print(\"Solution:\")\n",
    "    for v, c in sol.items():\n",
    "        print(f\"{v}: {c}\")\n",
    "else:\n",
    "    print(\"No solution found.\")\n"
   ]
  },
  {
   "cell_type": "code",
   "execution_count": null,
   "id": "22c54422",
   "metadata": {},
   "outputs": [],
   "source": []
  }
 ],
 "metadata": {
  "kernelspec": {
   "display_name": "Python 3 (ipykernel)",
   "language": "python",
   "name": "python3"
  },
  "language_info": {
   "codemirror_mode": {
    "name": "ipython",
    "version": 3
   },
   "file_extension": ".py",
   "mimetype": "text/x-python",
   "name": "python",
   "nbconvert_exporter": "python",
   "pygments_lexer": "ipython3",
   "version": "3.11.4"
  }
 },
 "nbformat": 4,
 "nbformat_minor": 5
}
